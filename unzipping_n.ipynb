{
 "cells": [
  {
   "cell_type": "code",
   "execution_count": null,
   "metadata": {},
   "outputs": [],
   "source": [
    "import zstandard\n",
    "dctx = zstandard.ZstdDecompressor()\n",
    "with open('/Users/young-kyungkim/Desktop/Academics/MY499 Dissertation/COde/ClimateActionPlan_submissions.zst', 'rb') as ifh, open('/Users/young-kyungkim/Desktop/Academics/MY499 Dissertation/Output/ClimateActionPlan_submissions', 'wb') as ofh:\n",
    "    dctx.copy_stream(ifh, ofh)"
   ]
  },
  {
   "cell_type": "code",
   "execution_count": 16,
   "metadata": {},
   "outputs": [],
   "source": [
    "import pandas as pd\n",
    "with open('/Users/young-kyungkim/Desktop/Academics/MY499 Dissertation/Output/ClimateActionPlan_submissions.ndjson', 'r') as file:\n",
    "    string = file.read()\n",
    "    df = pd.read_json(string, lines=True)"
   ]
  },
  {
   "cell_type": "code",
   "execution_count": 19,
   "metadata": {},
   "outputs": [
    {
     "name": "stdout",
     "output_type": "stream",
     "text": [
      "archived\n",
      "author\n",
      "author_created_utc\n",
      "author_flair_background_color\n",
      "author_flair_css_class\n",
      "author_flair_richtext\n",
      "author_flair_template_id\n",
      "author_flair_text\n",
      "author_flair_text_color\n",
      "author_flair_type\n",
      "author_fullname\n",
      "can_gild\n",
      "can_mod_post\n",
      "category\n",
      "content_categories\n",
      "contest_mode\n",
      "created_utc\n",
      "distinguished\n",
      "domain\n",
      "edited\n",
      "gilded\n",
      "hidden\n",
      "hide_score\n",
      "id\n",
      "is_crosspostable\n",
      "is_meta\n",
      "is_original_content\n",
      "is_reddit_media_domain\n",
      "is_self\n",
      "is_video\n",
      "link_flair_background_color\n",
      "link_flair_css_class\n",
      "link_flair_richtext\n",
      "link_flair_template_id\n",
      "link_flair_text\n",
      "link_flair_text_color\n",
      "link_flair_type\n",
      "locked\n",
      "media\n",
      "media_embed\n",
      "media_only\n",
      "no_follow\n",
      "num_comments\n",
      "num_crossposts\n",
      "over_18\n",
      "parent_whitelist_status\n",
      "permalink\n",
      "pinned\n",
      "post_hint\n",
      "preview\n",
      "pwls\n",
      "quarantine\n",
      "removal_reason\n",
      "retrieved_on\n",
      "score\n",
      "secure_media\n",
      "secure_media_embed\n",
      "selftext\n",
      "send_replies\n",
      "spoiler\n",
      "stickied\n",
      "subreddit\n",
      "subreddit_id\n",
      "subreddit_name_prefixed\n",
      "subreddit_subscribers\n",
      "subreddit_type\n",
      "suggested_sort\n",
      "thumbnail\n",
      "thumbnail_height\n",
      "thumbnail_width\n",
      "title\n",
      "url\n",
      "whitelist_status\n",
      "wls\n",
      "crosspost_parent\n",
      "crosspost_parent_list\n",
      "author_patreon_flair\n",
      "gildings\n",
      "is_robot_indexable\n",
      "all_awardings\n",
      "total_awards_received\n",
      "media_metadata\n",
      "author_cakeday\n",
      "allow_live_comments\n",
      "discussion_type\n",
      "awarders\n",
      "removed_by\n",
      "removed_by_category\n",
      "author_premium\n",
      "treatment_tags\n",
      "upvote_ratio\n",
      "is_created_from_ads_ui\n",
      "name\n",
      "retrieved_utc\n",
      "top_awarded_type\n",
      "url_overridden_by_dest\n",
      "poll_data\n",
      "gallery_data\n",
      "is_gallery\n",
      "banned_by\n",
      "view_count\n",
      "call_to_action\n"
     ]
    }
   ],
   "source": [
    "for columns in df.columns:\n",
    "    print(columns)"
   ]
  },
  {
   "attachments": {},
   "cell_type": "markdown",
   "metadata": {},
   "source": [
    "`selftext` for submissions and `body` for comments"
   ]
  }
 ],
 "metadata": {
  "kernelspec": {
   "display_name": ".venv",
   "language": "python",
   "name": "python3"
  },
  "language_info": {
   "codemirror_mode": {
    "name": "ipython",
    "version": 3
   },
   "file_extension": ".py",
   "mimetype": "text/x-python",
   "name": "python",
   "nbconvert_exporter": "python",
   "pygments_lexer": "ipython3",
   "version": "3.8.9"
  },
  "orig_nbformat": 4
 },
 "nbformat": 4,
 "nbformat_minor": 2
}
